{
 "cells": [
  {
   "cell_type": "code",
   "execution_count": 1,
   "metadata": {},
   "outputs": [],
   "source": [
    "# Don't change this cell; just run it. \n",
    "import numpy as np\n",
    "from datascience import *\n",
    "\n",
    "# These lines do some fancy plotting magic.\n",
    "import matplotlib\n",
    "%matplotlib inline\n",
    "import matplotlib.pyplot as plots\n",
    "plots.style.use('fivethirtyeight')\n",
    "import warnings\n",
    "warnings.simplefilter('ignore', FutureWarning)"
   ]
  },
  {
   "cell_type": "markdown",
   "metadata": {},
   "source": [
    "# Hotel Inspections"
   ]
  },
  {
   "cell_type": "code",
   "execution_count": 2,
   "metadata": {},
   "outputs": [
    {
     "data": {
      "text/html": [
       "<table border=\"1\" class=\"dataframe\">\n",
       "    <thead>\n",
       "        <tr>\n",
       "            <th>Inspection Date</th> <th>Score</th>\n",
       "        </tr>\n",
       "    </thead>\n",
       "    <tbody>\n",
       "        <tr>\n",
       "            <td>01/27/2014     </td> <td>100  </td>\n",
       "        </tr>\n",
       "        <tr>\n",
       "            <td>08/18/2016     </td> <td>85   </td>\n",
       "        </tr>\n",
       "        <tr>\n",
       "            <td>12/18/2014     </td> <td>72   </td>\n",
       "        </tr>\n",
       "        <tr>\n",
       "            <td>01/22/2015     </td> <td>95   </td>\n",
       "        </tr>\n",
       "        <tr>\n",
       "            <td>02/19/2015     </td> <td>100  </td>\n",
       "        </tr>\n",
       "        <tr>\n",
       "            <td>11/14/2013     </td> <td>85   </td>\n",
       "        </tr>\n",
       "        <tr>\n",
       "            <td>11/06/2014     </td> <td>100  </td>\n",
       "        </tr>\n",
       "        <tr>\n",
       "            <td>01/25/2016     </td> <td>89   </td>\n",
       "        </tr>\n",
       "        <tr>\n",
       "            <td>04/05/2016     </td> <td>76   </td>\n",
       "        </tr>\n",
       "        <tr>\n",
       "            <td>11/10/2015     </td> <td>75   </td>\n",
       "        </tr>\n",
       "    </tbody>\n",
       "</table>\n",
       "<p>... (19990 rows omitted)</p>"
      ],
      "text/plain": [
       "Inspection Date | Score\n",
       "01/27/2014      | 100\n",
       "08/18/2016      | 85\n",
       "12/18/2014      | 72\n",
       "01/22/2015      | 95\n",
       "02/19/2015      | 100\n",
       "11/14/2013      | 85\n",
       "11/06/2014      | 100\n",
       "01/25/2016      | 89\n",
       "04/05/2016      | 76\n",
       "11/10/2015      | 75\n",
       "... (19990 rows omitted)"
      ]
     },
     "execution_count": 2,
     "metadata": {},
     "output_type": "execute_result"
    }
   ],
   "source": [
    "hotel_scores = Table.read_table('hotel_inspection.csv')\n",
    "hotel_scores"
   ]
  },
  {
   "cell_type": "markdown",
   "metadata": {},
   "source": [
    "##  Data Exploration\n",
    "\n",
    "**a. Plot a histogram of the scores in the cell below.**"
   ]
  },
  {
   "cell_type": "code",
   "execution_count": 3,
   "metadata": {
    "deletable": false
   },
   "outputs": [
    {
     "data": {
      "image/png": "[encoded data removed]",
      "text/plain": [
       "<Figure size 432x288 with 1 Axes>"
      ]
     },
     "metadata": {},
     "output_type": "display_data"
    }
   ],
   "source": [
    "hotel_scores.hist('Score')"
   ]
  },
  {
   "cell_type": "markdown",
   "metadata": {},
   "source": [
    "**b. Calculate the *population mean*:**"
   ]
  },
  {
   "cell_type": "code",
   "execution_count": 4,
   "metadata": {},
   "outputs": [
    {
     "data": {
      "text/plain": [
       "91.42175"
      ]
     },
     "execution_count": 4,
     "metadata": {},
     "output_type": "execute_result"
    }
   ],
   "source": [
    "# Write your code here:\n",
    "pop_mean = np.mean(hotel_scores.column('Score'))\n",
    "pop_mean"
   ]
  },
  {
   "cell_type": "markdown",
   "metadata": {},
   "source": [
    "Often it is impossible to find complete datasets like this.  Imagine we instead had access only to a random sample of 100 hotel inspections, called `hotel_sample`.  That table is created below. We are interested in using this sample to estimate the population mean."
   ]
  },
  {
   "cell_type": "code",
   "execution_count": 5,
   "metadata": {},
   "outputs": [
    {
     "data": {
      "text/html": [
       "<table border=\"1\" class=\"dataframe\">\n",
       "    <thead>\n",
       "        <tr>\n",
       "            <th>Inspection Date</th> <th>Score</th>\n",
       "        </tr>\n",
       "    </thead>\n",
       "    <tbody>\n",
       "        <tr>\n",
       "            <td>10/20/2015     </td> <td>93   </td>\n",
       "        </tr>\n",
       "        <tr>\n",
       "            <td>09/14/2016     </td> <td>83   </td>\n",
       "        </tr>\n",
       "        <tr>\n",
       "            <td>02/29/2016     </td> <td>95   </td>\n",
       "        </tr>\n",
       "        <tr>\n",
       "            <td>11/07/2014     </td> <td>100  </td>\n",
       "        </tr>\n",
       "        <tr>\n",
       "            <td>09/25/2014     </td> <td>100  </td>\n",
       "        </tr>\n",
       "        <tr>\n",
       "            <td>04/19/2016     </td> <td>100  </td>\n",
       "        </tr>\n",
       "        <tr>\n",
       "            <td>04/16/2015     </td> <td>94   </td>\n",
       "        </tr>\n",
       "        <tr>\n",
       "            <td>03/31/2015     </td> <td>97   </td>\n",
       "        </tr>\n",
       "        <tr>\n",
       "            <td>01/13/2015     </td> <td>94   </td>\n",
       "        </tr>\n",
       "        <tr>\n",
       "            <td>06/16/2015     </td> <td>97   </td>\n",
       "        </tr>\n",
       "    </tbody>\n",
       "</table>\n",
       "<p>... (90 rows omitted)</p>"
      ],
      "text/plain": [
       "Inspection Date | Score\n",
       "10/20/2015      | 93\n",
       "09/14/2016      | 83\n",
       "02/29/2016      | 95\n",
       "11/07/2014      | 100\n",
       "09/25/2014      | 100\n",
       "04/19/2016      | 100\n",
       "04/16/2015      | 94\n",
       "03/31/2015      | 97\n",
       "01/13/2015      | 94\n",
       "06/16/2015      | 97\n",
       "... (90 rows omitted)"
      ]
     },
     "execution_count": 5,
     "metadata": {},
     "output_type": "execute_result"
    }
   ],
   "source": [
    "hotel_sample = hotel_scores.sample(100, with_replacement=False)\n",
    "hotel_sample"
   ]
  },
  {
   "cell_type": "markdown",
   "metadata": {},
   "source": [
    "**c. Plot a histogram of the *sample* scores in the cell below.**"
   ]
  },
  {
   "cell_type": "code",
   "execution_count": 6,
   "metadata": {
    "deletable": false
   },
   "outputs": [
    {
     "data": {
      "image/png": "[encoded data removed]",
      "text/plain": [
       "<Figure size 432x288 with 1 Axes>"
      ]
     },
     "metadata": {},
     "output_type": "display_data"
    }
   ],
   "source": [
    "# Write your code here:\n",
    "sample = hotel_sample.hist('Score')"
   ]
  },
  {
   "cell_type": "markdown",
   "metadata": {},
   "source": [
    "Calculate the **sample mean**:"
   ]
  },
  {
   "cell_type": "code",
   "execution_count": 7,
   "metadata": {},
   "outputs": [
    {
     "data": {
      "text/plain": [
       "92.11"
      ]
     },
     "execution_count": 7,
     "metadata": {},
     "output_type": "execute_result"
    }
   ],
   "source": [
    "sample_mean = np.mean(hotel_sample.column('Score'))\n",
    "sample_mean"
   ]
  },
  {
   "cell_type": "markdown",
   "metadata": {},
   "source": [
    "## 2.  Bootstraping\n",
    "**a. Complete the function `bootstrap_scores` below. It should take no arguments. It should simulate drawing 5000  bootstrap samples (same size as the original sample) from `hotel_sample` and computing the mean hotel score in each sample.  It should return an array (resampled_means) of those 5000 bootstrap sample means.**"
   ]
  },
  {
   "cell_type": "code",
   "execution_count": 8,
   "metadata": {
    "deletable": false,
    "manual_problem_id": "restaurant_bootstrap_means"
   },
   "outputs": [
    {
     "data": {
      "text/plain": [
       "array([90.48, 91.12, 92.17, ..., 92.62, 90.41, 91.41])"
      ]
     },
     "execution_count": 8,
     "metadata": {},
     "output_type": "execute_result"
    }
   ],
   "source": [
    "def bootstrap_scores():\n",
    "    resampled_means = make_array()\n",
    "    for i in range(5000):\n",
    "        resampled = hotel_scores.sample(100)\n",
    "        resampled_mean = np.mean(resampled.column('Score'))\n",
    "        resampled_means = np.append(resampled_means, resampled_mean)\n",
    "    return resampled_means\n",
    "    \n",
    "resampled_means = bootstrap_scores()\n",
    "resampled_means\n"
   ]
  },
  {
   "cell_type": "markdown",
   "metadata": {
    "collapsed": true,
    "deletable": false
   },
   "source": []
  },
  {
   "cell_type": "markdown",
   "metadata": {},
   "source": [
    "Plot a histogram of the **bootstrap sample means**."
   ]
  },
  {
   "cell_type": "code",
   "execution_count": 9,
   "metadata": {},
   "outputs": [
    {
     "data": {
      "image/png": "[encoded data removed]",
      "text/plain": [
       "<Figure size 432x288 with 1 Axes>"
      ]
     },
     "metadata": {},
     "output_type": "display_data"
    }
   ],
   "source": [
    "Table().with_column('Resampled mean', resampled_means).hist()"
   ]
  },
  {
   "cell_type": "markdown",
   "metadata": {},
   "source": [
    "**b. Compute a 95 percent confidence interval for the average hotel score using the array `resampled_means`.**"
   ]
  },
  {
   "cell_type": "code",
   "execution_count": 10,
   "metadata": {
    "deletable": false,
    "manual_problem_id": "bootstrap_4"
   },
   "outputs": [
    {
     "name": "stdout",
     "output_type": "stream",
     "text": [
      "95% confidence interval for the average hotel score, computed by bootstrapping:\n",
      "( [89.86] , [92.88] )\n"
     ]
    }
   ],
   "source": [
    "lower_bound = make_array(percentile(2.5,resampled_means))\n",
    "upper_bound = make_array(percentile(97.5,resampled_means))\n",
    "print(\"95% confidence interval for the average hotel score, computed by bootstrapping:\\n(\",lower_bound, \",\", upper_bound, \")\")"
   ]
  },
  {
   "cell_type": "markdown",
   "metadata": {
    "deletable": false,
    "manual_problem_id": "bootstrap_6"
   },
   "source": []
  },
  {
   "cell_type": "markdown",
   "metadata": {},
   "source": [
    "## Central Limit Theorem"
   ]
  },
  {
   "cell_type": "markdown",
   "metadata": {},
   "source": [
    "**a. Does the distribution of the  bootstrap sample mean scores(from part 2.a) look normally distributed? State \"yes\" or \"no\" and describe in one sentence why you should expect this result.**\n"
   ]
  },
  {
   "cell_type": "markdown",
   "metadata": {
    "deletable": false,
    "manual_problem_id": "bootstrap_5"
   },
   "source": [
    "*Yes, because all data in range of the SDs.*"
   ]
  },
  {
   "cell_type": "markdown",
   "metadata": {},
   "source": [
    "For the previous question, you'll need to recall two facts.\n",
    "1. If a group of numbers has a normal distribution, around 95% of them lie within 2 standard deviations of their mean.\n",
    "2. The Central Limit Theorem tells us the quantitative relationship between the following:\n",
    "    * the standard deviation of an array of numbers.\n",
    "    * the standard deviation of an array of means of samples taken from those numbers."
   ]
  },
  {
   "cell_type": "markdown",
   "metadata": {},
   "source": [
    "**b. Without using the array `resampled_means` or performing any new simulations, calculate 95 percent confidence interval for the average hotel score**\n",
    "\n",
    "You may use the following values to compute your result, but you should not perform additional sampling - think about how you can use the Central Limit Theorem to accomplish this. You can use sample standard deviation before as an approximation for population standard deviation. "
   ]
  },
  {
   "cell_type": "code",
   "execution_count": 11,
   "metadata": {
    "deletable": false,
    "for_assignment_type": "student",
    "manual_problem_id": "bootstrap_7",
    "scrolled": true
   },
   "outputs": [
    {
     "name": "stdout",
     "output_type": "stream",
     "text": [
      "95% confidence interval for the average hotel score, computed by a normal approximation:\n",
      "( 90.77197309444092 , 93.44802690555908 )\n"
     ]
    }
   ],
   "source": [
    "sample_mean = np.mean(hotel_sample.column(1))\n",
    "sample_sd = np.std(hotel_sample.column(1))\n",
    "sample_size = hotel_sample.num_rows\n",
    "\n",
    "\n",
    "lower_bound_normal = sample_mean-2*(sample_sd/np.sqrt(sample_size))\n",
    "upper_bound_normal = sample_mean+2*(sample_sd/np.sqrt(sample_size))\n",
    "print(\"95% confidence interval for the average hotel score, computed by a normal approximation:\\n(\",lower_bound_normal, \",\", upper_bound_normal, \")\")"
   ]
  },
  {
   "cell_type": "markdown",
   "metadata": {},
   "source": [
    "This confidence interval should look very similar to the one you computed in **Question 1**. This is actually an interval around the `sample_mean` that would cover approximately 95% of the numbers in the `resampled_means` array."
   ]
  },
  {
   "cell_type": "markdown",
   "metadata": {},
   "source": [
    "# Learning to fly a drone"
   ]
  },
  {
   "cell_type": "markdown",
   "metadata": {},
   "source": [
    "You recently bought a drone and trying to practice flying it. You decided to challenge your self and mark a special landing zone in front of your house. You practice landing the drone on that mark. Since you are stuck at home, you try this landing excercise over 800 times. \n",
    "\n",
    "You document the landing coordinates of all your trials. You don't always land on the mark, many external factors affect your landing accuracy. "
   ]
  },
  {
   "cell_type": "markdown",
   "metadata": {},
   "source": [
    "##  Exploring the data\n",
    "\n",
    "**Your landing coordinates are documented in coords.csv. Landing mark is at (0,0)**\n",
    "\n",
    "**a. Plot a scatter of the x, y coordinates of your landing positions. Add a marker at point (0, 0) for your landing mark.**"
   ]
  },
  {
   "cell_type": "code",
   "execution_count": 12,
   "metadata": {
    "ExecuteTime": {
     "end_time": "2020-05-01T22:07:56.273976Z",
     "start_time": "2020-05-01T22:07:56.264142Z"
    },
    "scrolled": true
   },
   "outputs": [
    {
     "data": {
      "text/plain": [
       "<matplotlib.collections.PathCollection at 0x7fa2f5ec0a60>"
      ]
     },
     "execution_count": 12,
     "metadata": {},
     "output_type": "execute_result"
    },
    {
     "data": {
      "image/png": "[encoded data removed]",
      "text/plain": [
       "<Figure size 360x360 with 1 Axes>"
      ]
     },
     "metadata": {},
     "output_type": "display_data"
    }
   ],
   "source": [
    "coords = Table.read_table(\"coords.csv\")\n",
    "# plot scatter of coords\n",
    "# add a marker for the landing pad at x=0, y=0. Look at the codes from Chapter 11 or other chapters to see examples of how you can mark (0,0)\n",
    "coords.scatter(0)\n",
    "plots.scatter(0, 0, color='blue', s=50)"
   ]
  },
  {
   "cell_type": "markdown",
   "metadata": {},
   "source": [
    "One time, something strange happened and you landed very far from the landing mark, specifically at point (80.59, 30.91). You don't understand if it was a strange incident such as a malfunction of the drone. \n",
    "\n",
    "\n",
    "**b. Add marker to this point on your previous graph**"
   ]
  },
  {
   "cell_type": "code",
   "execution_count": 13,
   "metadata": {
    "ExecuteTime": {
     "end_time": "2020-05-01T22:17:56.493072Z",
     "start_time": "2020-05-01T22:17:56.488619Z"
    }
   },
   "outputs": [
    {
     "data": {
      "text/plain": [
       "<matplotlib.collections.PathCollection at 0x7fa2f5e83e80>"
      ]
     },
     "execution_count": 13,
     "metadata": {},
     "output_type": "execute_result"
    },
    {
     "data": {
      "image/png": "[encoded data removed]",
      "text/plain": [
       "<Figure size 360x360 with 1 Axes>"
      ]
     },
     "metadata": {},
     "output_type": "display_data"
    }
   ],
   "source": [
    "strange_landing = make_array(80.59, 30.91)\n",
    "# recreate the previous plot and add a special marker for this strange landing\n",
    "coords.scatter(0)\n",
    "plots.scatter(strange_landing[0], strange_landing[1], color='blue', s=50)"
   ]
  },
  {
   "cell_type": "markdown",
   "metadata": {},
   "source": [
    "##  hypothesis testing: \n",
    "\n",
    "**Given what you learned in CS240 you'd like to test if this was indeed a strange incident. To do this you'll use hypothesis testing.  We've written down an alternative hypothesis below.  What is a reasonable null hypothesis?**"
   ]
  },
  {
   "cell_type": "markdown",
   "metadata": {
    "deletable": false,
    "for_assignment_type": "student",
    "manual_grade": true,
    "manual_problem_id": "landing_1"
   },
   "source": [
    "**Null hypothesis:** .. *This was not special. There is a chance to happen this kind of incident, it is not fair to say that it is a special incident compare to others.*\n",
    "\n",
    "**Alternative hypothesis:** This landing was special; its location was a draw from some other distribution, not the distribution from which the other 1100 landing locations were drawn."
   ]
  },
  {
   "cell_type": "markdown",
   "metadata": {},
   "source": [
    "## What's a good test statistic for this hypothesis test? \n",
    "\n",
    "A good test statistic would be small if the null hypothesis is true, and large otherwise. If we want to compare landings, we want to see *how far* each landing is from some *reference point*, so we can compare all landings from the same point.\n",
    "\n",
    "\n",
    "You choose the distance from each landing point to the landing mark (0, 0) as your test statistic. \n",
    "\n",
    "**Write a function that given x, y calculates the test statisitc at these coordinates.**"
   ]
  },
  {
   "cell_type": "code",
   "execution_count": 14,
   "metadata": {
    "deletable": false,
    "manual_grade": true,
    "manual_problem_id": "landing_3"
   },
   "outputs": [],
   "source": [
    "def landing_test_statistic(x_coordinate, y_coordinate):\n",
    "    distance = np.sqrt((x_coordinate**2) + (y_coordinate**2))\n",
    "    return distance"
   ]
  },
  {
   "cell_type": "markdown",
   "metadata": {},
   "source": [
    "## Compute the p-value using your test statistic.  \n",
    "\n",
    "**a. First let's calculate the test statistic for our strange landing point (the landing point from 1.b) using the function you created in the previous question.**"
   ]
  },
  {
   "cell_type": "code",
   "execution_count": 15,
   "metadata": {
    "ExecuteTime": {
     "end_time": "2020-05-01T22:20:49.429981Z",
     "start_time": "2020-05-01T22:20:49.425822Z"
    }
   },
   "outputs": [
    {
     "data": {
      "text/plain": [
       "86.31440320131978"
      ]
     },
     "execution_count": 15,
     "metadata": {},
     "output_type": "execute_result"
    }
   ],
   "source": [
    "strange_test_stat = landing_test_statistic(strange_landing[0], strange_landing[1])\n",
    "\n",
    "strange_test_stat"
   ]
  },
  {
   "cell_type": "markdown",
   "metadata": {},
   "source": [
    "**b. Now we are going to find the test stat for all the landing points in our dataset. Use the function you created to calculate the test stat for all x,y values.**"
   ]
  },
  {
   "cell_type": "code",
   "execution_count": 16,
   "metadata": {
    "ExecuteTime": {
     "end_time": "2020-05-01T22:24:25.908084Z",
     "start_time": "2020-05-01T22:24:25.869514Z"
    }
   },
   "outputs": [
    {
     "data": {
      "text/plain": [
       "array([ 19.58237257,   5.33334998,  32.49284692,  16.78034633,\n",
       "        37.04323884,  48.16125232,  44.02794347,  62.28958455,\n",
       "         9.53492813,  57.89800629,  55.01535438,  87.71826985,\n",
       "        23.38101107,  52.21892969,  13.34931826,  24.03154119,\n",
       "        61.65736092,  39.3755805 ,  44.25662908,  22.46227627,\n",
       "        17.30971343,  35.22836792,  19.99695756,  27.73780197,\n",
       "        41.80365135,  63.63956819,  35.55155331,  52.6861525 ,\n",
       "        54.32308801,  69.96639865,  30.37804401,  14.62144724,\n",
       "        49.11813074,  52.20026267,  28.95081306,  37.87388628,\n",
       "        31.4014951 ,  25.95163412,  81.98326399,  40.22178189,\n",
       "        34.58856676,  46.61068644,  19.28338702,  36.91913095,\n",
       "        18.70902806,  86.7962042 ,  30.43217458,  39.11191885,\n",
       "        21.64530233,  34.38712214,  13.2549135 ,  21.72773266,\n",
       "        78.9671715 ,  56.68480587,  43.48264924,  32.32168435,\n",
       "        64.4534598 ,  59.73022461,  44.92510501,  14.01209831,\n",
       "        25.08672648,  25.75181497,  70.43912362,  57.33322188,\n",
       "        35.85499667,  41.84213237,   9.15577865,   5.88911169,\n",
       "        46.36637618,  16.54443732,  40.95983129,  36.4056737 ,\n",
       "        70.42556095,  10.08047903,  28.4912676 ,  16.55282477,\n",
       "        21.50280646,  67.18430522,  30.83026305,  23.21276345,\n",
       "        55.39311361,  43.47271187,  52.59677361,  27.61191758,\n",
       "        68.94998043,  12.81710437,   4.48263044,  74.50653556,\n",
       "        49.3490121 ,  26.34532536,   4.78928577,  20.23980179,\n",
       "        43.99409816,  36.569767  ,  33.50743276,  57.86131185,\n",
       "        23.08916289,  22.58697728,  21.59050703,   3.41323723,\n",
       "        16.95721437,  17.15134683,  39.69670833,  44.3805841 ,\n",
       "        38.96334768,   8.85928799,  25.23160664,  29.40685407,\n",
       "        33.2553348 ,  41.60846353,  32.41479101,  88.61820999,\n",
       "        27.90621015,  40.60812857,  58.0560509 ,  62.5903359 ,\n",
       "        56.21539909,  44.86714486,  46.9497864 ,  29.92643322,\n",
       "        49.0082178 ,  61.67947963,  17.88288369,  26.05484711,\n",
       "        26.55030659,  40.69254546,  24.75113014,  19.61292353,\n",
       "        47.99760982,  36.14531165,  19.13887397,   7.26429907,\n",
       "        34.27264143,  16.25004053,  36.82942398,  44.63688084,\n",
       "        55.73815248,  50.40752201,  33.04504423,  29.55699225,\n",
       "        50.82026138,  38.3497392 ,  51.32178368,  15.71904896,\n",
       "        50.87094499,  43.98135672,  34.9563391 ,  53.11375655,\n",
       "        56.80695465,  43.96509491,  17.57824823,  21.42930689,\n",
       "        42.13104289,  33.64700665,  58.58148092,  24.08283946,\n",
       "        35.10446107,  57.7910922 ,  37.66263531,   8.98776762,\n",
       "        25.35501746,  39.58374524,  73.64024252,  30.33073084,\n",
       "        25.24271414,  50.96494114,  39.53972036,  22.34773167,\n",
       "        14.26354241,  40.48729887,  29.2294282 ,  42.65706974,\n",
       "        81.41435788,  95.98982524,  75.84097698,  52.09481857,\n",
       "        53.64501677,  30.28324118,  35.52223295,  36.60252184,\n",
       "        44.22578567,  12.68016563,  47.29981327,  31.56151304,\n",
       "        42.33201987,  45.96889006,  14.20974338,  48.39322458,\n",
       "        43.75490488,  84.08796474,   3.66595885,  33.03526659,\n",
       "         2.28606171,  17.49307098,  30.45576972,   7.39812458,\n",
       "        62.80021504,  75.44125937,  41.08739084,  27.93428494,\n",
       "        24.20901095,  12.33813596,  21.98697062,  24.203578  ,\n",
       "        67.03658962,   7.0373003 ,  26.88007466,  29.81578449,\n",
       "        29.672158  ,  20.59634941,  28.33668998,  66.57074324,\n",
       "        19.78824632,   3.50621513,   5.43075722,  17.01123649,\n",
       "        31.44823845,  43.52569133,  10.84514076,  35.21302852,\n",
       "        41.75594968,  16.39261234,  34.22182649,  24.69824864,\n",
       "        35.29073352,  26.21422646,  38.76894496,  32.14903253,\n",
       "        20.01044585,  19.81729433,  25.98890733,  28.88045828,\n",
       "        32.6726623 ,  43.76931259,  17.51456399,  48.73198882,\n",
       "        68.11979178,   7.18415534,  56.98929908,  16.60119808,\n",
       "        34.18166892,  10.64387267,  29.54771039,  18.99508318,\n",
       "        44.91831148,  20.8510562 ,  59.02767081,  36.52807189,\n",
       "        43.31833729,  16.98980246,  36.41644592,  50.69783918,\n",
       "        39.17112471,  39.6403273 ,  11.53591656,   6.57491763,\n",
       "        10.07493134,  28.24132651,  27.37532495,  30.64363134,\n",
       "        45.40199982,  51.33624573,  39.80145762,   8.91039586,\n",
       "        10.95043324,  30.27097005,  30.16503706,  73.1356879 ,\n",
       "        41.06750678,  92.18121967,  32.48926398,  22.21051401,\n",
       "        46.34153783,  19.89783538,  16.41699691,  25.29159311,\n",
       "        43.97368826,  34.38011125,  14.51676365,  43.86813833,\n",
       "        48.3813896 ,  12.9761765 ,  13.37968548,  69.54642392,\n",
       "        54.65523895,  45.50723996,  23.77432093,  26.632171  ,\n",
       "        15.16810517,  63.84067424,  42.81027348,  17.75320158,\n",
       "        19.69505322,   7.34595837,  78.5562179 ,  58.7276047 ,\n",
       "        11.83670144,  40.75664756,  15.55481855,  47.69593711,\n",
       "        85.37122487,   8.16344142,  49.85663119,  44.72305401,\n",
       "        27.15490347,  70.41882884,  46.61363972,  24.67392596,\n",
       "        71.62002935,  45.63818487,  18.55647628,  40.91128765,\n",
       "        16.94920514,  34.28280072,  26.88109645,  13.65596197,\n",
       "        19.60225153,  34.91000864,   9.75803125,  40.94590332,\n",
       "        48.35546559,  63.74656935,   7.99104703,  36.85002966,\n",
       "        43.70957238,  64.17312656,  13.466198  ,  42.16746641,\n",
       "        19.84128846,  37.91144866,  20.14197554,  31.08030902,\n",
       "        28.27079811,  21.19401186,  54.38944808,  39.975448  ,\n",
       "        37.10045476,   7.11466624,  72.71007915,  35.19528539,\n",
       "        36.84232854,  46.04528146,  47.1605734 ,   7.60989193,\n",
       "        67.66201632,  26.87591225,  10.22651734,  75.23404016,\n",
       "        36.12153885,  29.27440443,   3.55713136,  49.74419334,\n",
       "        50.50181141,  38.41348626,  11.92315775,  57.73354334,\n",
       "        25.61011799,  42.37396214,  21.45809564,  28.98091518,\n",
       "        30.76008007,  20.10812435,  37.82174566,  40.89321413,\n",
       "        58.39721592,   3.78216243,  44.42205927,  35.99234578,\n",
       "        53.62885772,  24.49039654,  21.09469205,  35.60598752,\n",
       "        17.1300941 ,  24.09467777,  60.38451397,  24.94443533,\n",
       "        35.68409079,  12.8847904 ,  34.16825533,  29.82271073,\n",
       "        26.3480363 ,   3.61676792,  16.8731604 ,  76.93302883,\n",
       "        35.46517454,  56.57383209,  17.1041606 ,  26.17838103,\n",
       "        55.76976666,  15.98658941,  36.36074999,  19.56546585,\n",
       "        45.45368842,  26.6334189 ,  31.72721978,  45.61558847,\n",
       "        44.30711229,  65.36232513,  39.71938693,  36.2633319 ,\n",
       "        26.31724364,  52.39442204,  27.78256264,  21.86142279,\n",
       "        49.96723711,  24.00898911,  10.20535223,  88.19345599,\n",
       "        61.42696875,  18.8427258 ,  62.22001526,  42.51179725,\n",
       "        44.83228768,  31.59914624,   5.30052626,  24.85769993,\n",
       "        57.22916863,  40.55133129,  45.52087764,  35.09330254,\n",
       "        40.11356389,  28.88066792,  43.24834986,  46.11867998,\n",
       "        14.18545884,  38.10206248,  50.05387126,   7.50632956,\n",
       "        81.26223309,  33.60460984,   7.31748298,  31.58689758,\n",
       "        23.4286522 ,  26.36436762,  35.19400729,  12.72314043,\n",
       "        17.12511759,  35.9118273 ,  62.30862969,  31.59567723,\n",
       "        36.17276746,  86.11065702,  41.82900112,  38.1205985 ,\n",
       "        22.14225038,  17.71774328,  46.44824405,   9.83921123,\n",
       "        28.58942686,  55.86166397,  31.90924741,  46.92129638,\n",
       "        11.14876807,  29.98208347,  47.4757356 ,  27.66334198,\n",
       "        10.79702666,  36.87379495,  36.50136884,  16.3942603 ,\n",
       "        35.68142872,  43.65363472,  77.33073084,  50.86406946,\n",
       "        31.30692163,  24.33037372,  33.27074361,  14.16715736,\n",
       "        27.63068487,  12.94704146,  26.31690164,  36.44917527,\n",
       "        44.01596881,  55.34790569,  40.01802133,  21.72129465,\n",
       "        32.24783639,  34.45145473,  51.08933507,  21.68543095,\n",
       "        39.04252605,  27.3053218 ,  75.19660142,  29.64183459,\n",
       "        21.82903455,  18.69653462,  30.82849856,  65.24385442,\n",
       "        11.70059088,  30.8283298 ,  29.48435242,  14.80140163,\n",
       "        30.94776717,  51.78255511,  59.23657217,  27.60358483,\n",
       "        22.67024066,   8.11030929,  17.4446826 ,  25.06424328,\n",
       "        20.84023432,  37.66166337,   8.86938878,  71.76888564,\n",
       "        28.91422676,  31.08653115,  36.22767408,  43.347699  ,\n",
       "        36.4596663 ,  53.22693244,  32.33073072,  61.17794121,\n",
       "        24.79541285,  28.30954616,  63.52794474,  16.11363544,\n",
       "        54.30582731,  18.10061685,  19.9773123 ,  30.52079622,\n",
       "        50.44658091,  12.65039   ,  20.1557326 ,  31.05941251,\n",
       "        44.03472189,  52.83568805,  22.32665118,  35.10408555,\n",
       "        66.23028791,  23.29047844,  26.83077115,  59.24832596,\n",
       "        16.01708185,  55.33632757,  39.83477031,  86.24063747,\n",
       "        51.71069578,  42.53494314,  51.98120218,  10.15154016,\n",
       "        37.09408542,  38.00751472,  10.2420536 ,  26.76472613,\n",
       "        43.88104848,  34.99335225,  45.39840906,  25.64121527,\n",
       "        17.18209783,  60.51949806,   3.16832432,  33.26840518,\n",
       "        72.24989003,  41.38713502,  32.33881246,  22.47113538,\n",
       "        79.15774337,  46.66509318,  34.39548139,  59.50425171,\n",
       "        10.88208217,  25.21168655,   4.14126094,  42.85978024,\n",
       "        17.77997334,  54.72702561,  20.70101109,  28.81252256,\n",
       "        15.16303234,  48.09149731,  12.89555662,  44.55895332,\n",
       "        35.8464244 ,  49.96667418,  21.57816092,  40.67647198,\n",
       "        43.68438513,  12.03438505,  17.49159782,  28.92793835,\n",
       "        51.34368755,  42.37520334,  31.49721297,  24.20608828,\n",
       "        29.15475598,  54.11089774,  51.62231479,  58.15740429,\n",
       "        57.66486403,  63.90488462,   0.85575899,  13.30263475,\n",
       "        16.11537242,  36.93166904, 105.32097871,  54.24800535,\n",
       "        62.37303194,  62.21431376,   5.21042988,  30.70218882,\n",
       "        56.82352808,  29.49139543,  36.79066246,  48.77186458,\n",
       "         8.51705209,  29.19273184,  38.89183138,   9.18977441,\n",
       "        15.0287208 ,  49.47164842,  17.19011695,  31.52667138,\n",
       "        14.16410873,  34.54950151,  41.6140601 ,  39.44963242,\n",
       "        35.96712416,  18.60147727,  44.08538333,  21.79831112,\n",
       "        36.65075919,  30.62764263,  17.50659363,  38.37477029,\n",
       "        29.14055002,  11.60736427,  55.33314041,  18.5140231 ,\n",
       "        66.7878233 ,  43.2599513 ,   5.85274082,  37.06165077,\n",
       "        61.70286144,   9.40983256,  10.38063216,  35.8930125 ,\n",
       "        23.16707738,  26.66723993,  37.00578368,  51.5318647 ,\n",
       "        30.7924125 ,  10.08181555,  14.65652104,  47.78431632,\n",
       "        38.75404028,  31.83736715,  14.33134133,  57.50416158,\n",
       "        43.17248244,  19.89376422,  29.94801352,  30.29274788,\n",
       "        15.72709369,  33.55341013,  37.096993  ,  19.96260394,\n",
       "        26.9366451 ,  52.56142684,  20.22621513,  42.23667724,\n",
       "        83.72325634,  46.99143378,  23.34228716,  25.87472334,\n",
       "        57.82186731,  34.75131597,  17.15816877,  26.53205675,\n",
       "        53.8081105 ,  25.66181324,  55.79467749,  25.39213503,\n",
       "        37.84256139,  31.97495584,  22.20765385,  39.00026511,\n",
       "        68.84992428,  57.62823746,  31.93252083,  20.74246921,\n",
       "        46.12288027,  54.95646627,  62.83113934,  33.78686556,\n",
       "        58.12516186,  59.36448892,   8.30650842,  39.85358436,\n",
       "        37.63744686,  22.61901102,  48.57337243,  49.78306793,\n",
       "        16.30579332,  26.87069831,  59.54996093,   7.79801384,\n",
       "        24.88950006,  40.5230848 ,  66.84914439,  18.94570163,\n",
       "        42.16053001,  29.83047128,  37.54791064,  24.73190521,\n",
       "        18.37775095,  44.74751288,   6.11998791,  39.16094327,\n",
       "        50.42639202,  23.51393486,  45.20453471,  50.63213525,\n",
       "        15.57496662,  39.70337889,  68.14059667,  40.78642074,\n",
       "        42.95391726,  17.83096451,  37.39804704,  65.9231752 ,\n",
       "        47.71193677,  31.45515414, 118.87422931,  42.74522043,\n",
       "        59.36198792,  17.72495415,  61.59540946,  68.52311848,\n",
       "        39.40246437,  60.52501065,  39.38116473,  28.66101174,\n",
       "        69.74269689,  51.07162222,  52.17123445,  29.52650757,\n",
       "        36.63275078,  44.28494442,  44.69626248,  44.55564453,\n",
       "        20.59086079,  20.0681526 ,  15.82859429,  33.26071401,\n",
       "        85.42299167,  14.7121346 ,  60.5860019 ,  24.15010539,\n",
       "        90.20373637,  40.01902678,   3.77396265,  14.5363026 ,\n",
       "        50.25908072,  44.25353912,  92.1392662 ,  33.91546624,\n",
       "        40.49420204,  24.39130926,  44.52328827,  66.80368837,\n",
       "        29.68093696,  35.88702052,   2.16522367,  26.01783936,\n",
       "        39.51645004,  60.29072804,  29.22805318,  16.44416334,\n",
       "        40.61683765,   5.364146  ,  21.25020814,  28.6845327 ,\n",
       "        65.92089833,  32.45826328,  16.5510141 ,  10.56360649,\n",
       "        13.49049052,  55.07661582,  20.75349755,  63.25873334,\n",
       "        60.62037934,  18.23537099,  25.65841299,  42.03352485,\n",
       "        20.84784879,  26.05428039,  70.98462106,  15.96889998,\n",
       "        15.22841502,  23.14678035,   4.63164894,  31.04111068,\n",
       "        12.086667  ,  53.04979816,   6.57829549,  37.10123306,\n",
       "        33.84811004,  44.36359537,  36.09860268,  39.23382447,\n",
       "        13.05280322,  59.75145897,  32.08864864,  39.73729911,\n",
       "        67.05629662,  36.99247846,  51.07467983,  21.78353162,\n",
       "        20.14767   ,  16.1419437 ,  30.83489978,  45.64809148,\n",
       "        29.54875547,  10.31320873,   8.15653377,   8.19492975,\n",
       "        35.59899665,  33.61216383,  70.84876692,  47.60989933,\n",
       "        38.07056045,  33.37696801,  41.17356285,  79.68477263,\n",
       "        33.47061761])"
      ]
     },
     "execution_count": 16,
     "metadata": {},
     "output_type": "execute_result"
    }
   ],
   "source": [
    "all_points_test_stats = make_array()\n",
    "# calculate the test stats for all landing points and store them to the array all_points_test_stats\n",
    "\n",
    "distance = landing_test_statistic(coords.column('x'),coords.column('y'))\n",
    "all_points_test_stats = np.append(all_points_test_stats, distance)\n",
    "\n",
    "all_points_test_stats"
   ]
  },
  {
   "cell_type": "markdown",
   "metadata": {},
   "source": [
    "**c.  Now, to calculate the p-value for our strange landing point, we are going to count the times where our landing coordinates' test stat were larger than or equal to our strange test stat.**\n",
    "\n",
    "**Dividing this number with the total number of landings would give us the p-value.**"
   ]
  },
  {
   "cell_type": "code",
   "execution_count": 17,
   "metadata": {
    "ExecuteTime": {
     "end_time": "2020-05-01T22:27:32.997836Z",
     "start_time": "2020-05-01T22:27:32.990770Z"
    }
   },
   "outputs": [
    {
     "data": {
      "text/plain": [
       "0.012121212121212121"
      ]
     },
     "execution_count": 17,
     "metadata": {},
     "output_type": "execute_result"
    }
   ],
   "source": [
    "# you will be using all_points_test_stats and strange_test_stat to calculate the p-value\n",
    "p_value = sum(all_points_test_stats >= strange_test_stat)/len(coords['x'])\n",
    "p_value"
   ]
  },
  {
   "cell_type": "markdown",
   "metadata": {
    "deletable": false,
    "for_assignment_type": "student",
    "manual_problem_id": "landing_4"
   },
   "source": [
    "**d. Was your landing strange after all? Briefly discuss by comparing with the commonly used p-value significance levels**"
   ]
  },
  {
   "cell_type": "markdown",
   "metadata": {
    "manual_problem_id": "bootstrap_5"
   },
   "source": [
    "*It is small value and it seems like it is statistically significant. It still strange landing when considering all information we have.*"
   ]
  },
  {
   "cell_type": "markdown",
   "metadata": {},
   "source": [
    "# Correlations"
   ]
  },
  {
   "cell_type": "markdown",
   "metadata": {},
   "source": [
    "In this exercise you will be exploring the relation between peoples' weights and heights. "
   ]
  },
  {
   "cell_type": "code",
   "execution_count": 18,
   "metadata": {},
   "outputs": [
    {
     "data": {
      "text/html": [
       "<table border=\"1\" class=\"dataframe\">\n",
       "    <thead>\n",
       "        <tr>\n",
       "            <th>Height</th> <th>Weight</th>\n",
       "        </tr>\n",
       "    </thead>\n",
       "    <tbody>\n",
       "        <tr>\n",
       "            <td>73.847 </td> <td>241.894</td>\n",
       "        </tr>\n",
       "        <tr>\n",
       "            <td>68.7819</td> <td>162.31 </td>\n",
       "        </tr>\n",
       "        <tr>\n",
       "            <td>74.1101</td> <td>212.741</td>\n",
       "        </tr>\n",
       "        <tr>\n",
       "            <td>71.731 </td> <td>220.042</td>\n",
       "        </tr>\n",
       "        <tr>\n",
       "            <td>69.8818</td> <td>206.35 </td>\n",
       "        </tr>\n",
       "        <tr>\n",
       "            <td>67.253 </td> <td>152.212</td>\n",
       "        </tr>\n",
       "        <tr>\n",
       "            <td>68.7851</td> <td>183.928</td>\n",
       "        </tr>\n",
       "        <tr>\n",
       "            <td>68.3485</td> <td>167.971</td>\n",
       "        </tr>\n",
       "        <tr>\n",
       "            <td>67.0189</td> <td>175.929</td>\n",
       "        </tr>\n",
       "        <tr>\n",
       "            <td>63.4565</td> <td>156.4  </td>\n",
       "        </tr>\n",
       "    </tbody>\n",
       "</table>\n",
       "<p>... (9990 rows omitted)</p>"
      ],
      "text/plain": [
       "Height  | Weight\n",
       "73.847  | 241.894\n",
       "68.7819 | 162.31\n",
       "74.1101 | 212.741\n",
       "71.731  | 220.042\n",
       "69.8818 | 206.35\n",
       "67.253  | 152.212\n",
       "68.7851 | 183.928\n",
       "68.3485 | 167.971\n",
       "67.0189 | 175.929\n",
       "63.4565 | 156.4\n",
       "... (9990 rows omitted)"
      ]
     },
     "execution_count": 18,
     "metadata": {},
     "output_type": "execute_result"
    }
   ],
   "source": [
    "health = Table.read_table(\"weight-height.csv\")\n",
    "health"
   ]
  },
  {
   "cell_type": "markdown",
   "metadata": {},
   "source": [
    "**a. Make a scatter plot of the data.  Put weight on the vertical axis**"
   ]
  },
  {
   "cell_type": "code",
   "execution_count": 19,
   "metadata": {},
   "outputs": [
    {
     "data": {
      "image/png": "[encoded data removed]",
      "text/plain": [
       "<Figure size 360x360 with 1 Axes>"
      ]
     },
     "metadata": {},
     "output_type": "display_data"
    }
   ],
   "source": [
    "health.scatter('Weight', 'Height')"
   ]
  },
  {
   "cell_type": "markdown",
   "metadata": {},
   "source": [
    "**b. Look at the scatter plot. Are height and weight roughly linearly related? Indicate which of the below correlations strengths are most probably and  briefly explain your answer**\n",
    "- 1\n",
    "- 0\n",
    "- -1"
   ]
  },
  {
   "cell_type": "markdown",
   "metadata": {},
   "source": [
    "*Yes they are linearly related and their relation is positive. Also similar to relationship of 1.*"
   ]
  },
  {
   "cell_type": "markdown",
   "metadata": {},
   "source": [
    "**c. We'd next like to see the data in standard units.  Recall that, if `nums` is an array of numbers, then..**\n",
    "\n",
    "    (nums - np.mean(nums)) / np.std(nums)\n",
    "\n",
    "**...is an array of those numbers in standard units.**"
   ]
  },
  {
   "cell_type": "code",
   "execution_count": 20,
   "metadata": {},
   "outputs": [],
   "source": [
    "weight_mean = np.mean(health.column('Weight'))\n",
    "weight_std = np.std(health.column('Weight'))\n",
    "height_mean = np.mean(health.column('Height'))\n",
    "height_std = np.std(health.column('Height'))\n",
    "\n",
    "standard_health = Table().with_columns(\n",
    "    \"weight (standard units)\", (health.column('Weight') - weight_mean)/(weight_std),\n",
    "    \"height (standard units)\", (health.column('Height') - height_mean)/(height_std))"
   ]
  },
  {
   "cell_type": "markdown",
   "metadata": {},
   "source": [
    "**d.  Calculate the correlation score between the two variables**\n",
    "\n",
    "Hint: Calculate this by using the data in the standard units."
   ]
  },
  {
   "cell_type": "code",
   "execution_count": 21,
   "metadata": {},
   "outputs": [
    {
     "data": {
      "text/plain": [
       "0.9247562987378064"
      ]
     },
     "execution_count": 21,
     "metadata": {},
     "output_type": "execute_result"
    }
   ],
   "source": [
    "r = np.mean((health.column('Weight') - weight_mean)/(weight_std) * (health.column('Height') - height_mean)/(height_std))\n",
    "r"
   ]
  }
 ],
 "metadata": {
  "kernelspec": {
   "display_name": "Python 3",
   "language": "python",
   "name": "python3"
  },
  "language_info": {
   "codemirror_mode": {
    "name": "ipython",
    "version": 3
   },
   "file_extension": ".py",
   "mimetype": "text/x-python",
   "name": "python",
   "nbconvert_exporter": "python",
   "pygments_lexer": "ipython3",
   "version": "3.8.5"
  },
  "toc": {
   "base_numbering": 1,
   "nav_menu": {},
   "number_sections": true,
   "sideBar": true,
   "skip_h1_title": false,
   "title_cell": "Table of Contents",
   "title_sidebar": "Contents",
   "toc_cell": false,
   "toc_position": {},
   "toc_section_display": true,
   "toc_window_display": false
  }
 },
 "nbformat": 4,
 "nbformat_minor": 4
}
